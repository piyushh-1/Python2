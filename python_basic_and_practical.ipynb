{
  "nbformat": 4,
  "nbformat_minor": 0,
  "metadata": {
    "colab": {
      "provenance": []
    },
    "kernelspec": {
      "name": "python3",
      "display_name": "Python 3"
    },
    "language_info": {
      "name": "python"
    }
  },
  "cells": [
    {
      "cell_type": "code",
      "execution_count": null,
      "metadata": {
        "id": "PyhMEfqEVCwA"
      },
      "outputs": [],
      "source": []
    },
    {
      "cell_type": "markdown",
      "source": [
        "Q.1 What is Python, and why is it popular\n",
        "\n",
        "\n",
        "\n",
        "\n",
        "\n",
        "ANS1. python is a high level interpreted programming language that is widely used for web development , data science , artifical intelligence , automation , software development and more and it is easy to use and understand  \n",
        "\n"
      ],
      "metadata": {
        "id": "mMeVKl5LVQET"
      }
    },
    {
      "cell_type": "markdown",
      "source": [
        "Q.2 What is an interpreter in Python\n",
        "\n",
        "\n",
        "\n",
        "\n",
        "ANS= In python , an interpreter is the program that executes python code line by line.\n",
        "\n",
        "unlike complied language like c and jawa where code is converted into machine code before running , python code is interpreted directly."
      ],
      "metadata": {
        "id": "ylARAG6OXdkU"
      }
    },
    {
      "cell_type": "markdown",
      "source": [
        "Q.3 What are pre-defined keywords in Python\n",
        "\n",
        "ANS= in Python, pre-defined keywords are special reserved words that have a fixed meaning and purpose in the language."
      ],
      "metadata": {
        "id": "FpMUWXcUYagV"
      }
    },
    {
      "cell_type": "markdown",
      "source": [
        "Q.4 Can keywords be used as variable names\n",
        "\n",
        "ANS= No — keywords cannot be used as variable names in Python"
      ],
      "metadata": {
        "id": "PmFucaCmY4Cl"
      }
    },
    {
      "cell_type": "markdown",
      "source": [
        "Q.5 what is mutability in python\n",
        "\n",
        "ANS=In Python, mutability means whether the value of an object can be changed (modified) after creation or not."
      ],
      "metadata": {
        "id": "vfroqjJSZIFI"
      }
    },
    {
      "cell_type": "markdown",
      "source": [
        "Q.6 Why are lists mutable, but tuples are immutable\n",
        "\n",
        "ANS= A: Lists are designed to allow modification (adding, removing, updating elements). Tuples, on\n",
        "the other hand, are designed as fixed collections, making them immutable"
      ],
      "metadata": {
        "id": "uyIY4wlfZfJy"
      }
    },
    {
      "cell_type": "markdown",
      "source": [
        "Q7: What is the difference between '==' and 'is' operators in Python?\n",
        "\n",
        "\n",
        "A7: '==' checks for equality of values, while 'is' checks for identity (whether two objects occupy\n",
        "the same memory location).\n",
        "\n",
        "\n",
        "Q8: What are logical operators in Python?\n",
        "\n",
        "\n",
        "A8: Logical operators are used to combine conditions: 'and', 'or', 'not'.\n",
        "\n",
        "\n",
        "\n",
        "Q9: What is type casting in Python?\n",
        "\n",
        "\n",
        "A9: Type casting is converting one data type into another (e.g., string to integer).\n",
        "\n",
        "\n",
        "Q10: What is the difference between implicit and explicit type casting?\n",
        "\n",
        "\n",
        "A10: Implicit casting is done automatically by Python (e.g., int to float), while explicit casting is\n",
        "\n",
        "\n",
        "done manually using functions like int(), float(), str().\n",
        "\n",
        "\n",
        "Q11: What is the purpose of conditional statements in Python?\n",
        "\n",
        "\n",
        "\n",
        "A11: Conditional statements allow decision-making in a program (executing code only when a\n",
        "condition is true).\n",
        "\n",
        "\n",
        "\n",
        "Q12: How does the elif statement work?\n",
        "\n",
        "\n",
        "A12: 'elif' allows checking multiple conditions sequentially until one is true."
      ],
      "metadata": {
        "id": "ejnBjOziyb7N"
      }
    },
    {
      "cell_type": "markdown",
      "source": [
        "Q13: What is the difference between for and while loops?\n",
        "\n",
        "\n",
        "\n",
        "A13: 'for' loops are used for iteration over a sequence, while 'while' loops continue running as\n",
        "long as a condition is true.\n",
        "\n",
        "\n",
        "\n",
        "\n",
        "Q14: Describe a scenario where a while loop is more suitable than a for loop.\n",
        "\n",
        "\n",
        "\n",
        "\n",
        "\n",
        "\n",
        "A14: When the number of iterations is not known in advance, such as reading input until a user\n",
        "enters 'exit'.\n"
      ],
      "metadata": {
        "id": "YPXhdzRGzIw9"
      }
    },
    {
      "cell_type": "markdown",
      "source": [
        "#48 Write a Python program to print \"Hello, World!\""
      ],
      "metadata": {
        "id": "3di4tz5JY0X6"
      }
    },
    {
      "cell_type": "code",
      "source": [
        "print(\"hello , world !\")"
      ],
      "metadata": {
        "colab": {
          "base_uri": "https://localhost:8080/"
        },
        "id": "PhZMrZ1tZKHs",
        "outputId": "436e7cfc-2d0a-4c06-ab69-e818e98c9853"
      },
      "execution_count": null,
      "outputs": [
        {
          "output_type": "stream",
          "name": "stdout",
          "text": [
            "hello , world !\n"
          ]
        }
      ]
    },
    {
      "cell_type": "markdown",
      "source": [
        "# Q2 Write a Python program that displays your name and age"
      ],
      "metadata": {
        "id": "gvbEK8OkZgG8"
      }
    },
    {
      "cell_type": "code",
      "source": [
        "name = input(\"enter a name:\")\n",
        "age = int(input(\"enter a age:\"))\n",
        "print(\"name:\",name)\n",
        "print(\"age:\",age)"
      ],
      "metadata": {
        "colab": {
          "base_uri": "https://localhost:8080/"
        },
        "id": "Bep0fTqEZpm5",
        "outputId": "25058e07-088c-49d5-ca44-80513fbef8e7"
      },
      "execution_count": null,
      "outputs": [
        {
          "output_type": "stream",
          "name": "stdout",
          "text": [
            "enter a name:piyush\n",
            "enter a age:18\n",
            "name: piyush\n",
            "age: 18\n"
          ]
        }
      ]
    },
    {
      "cell_type": "markdown",
      "source": [
        "# Q3 Write code to print all the pre-defined keywords in Python using the keyword library"
      ],
      "metadata": {
        "id": "OX1kwQciZ8PN"
      }
    },
    {
      "cell_type": "code",
      "source": [
        "def print_predefined_keywords():\n",
        "    import keyword\n",
        "    keywords = keyword.kwlist\n",
        "    for keyword in keywords:\n",
        "        print(keyword)\n",
        "print_predefined_keywords()\n",
        "#"
      ],
      "metadata": {
        "colab": {
          "base_uri": "https://localhost:8080/"
        },
        "id": "jnjBs_YQaEzj",
        "outputId": "6557a331-c016-489d-ea64-0d0bd8a74ae3"
      },
      "execution_count": null,
      "outputs": [
        {
          "output_type": "stream",
          "name": "stdout",
          "text": [
            "False\n",
            "None\n",
            "True\n",
            "and\n",
            "as\n",
            "assert\n",
            "async\n",
            "await\n",
            "break\n",
            "class\n",
            "continue\n",
            "def\n",
            "del\n",
            "elif\n",
            "else\n",
            "except\n",
            "finally\n",
            "for\n",
            "from\n",
            "global\n",
            "if\n",
            "import\n",
            "in\n",
            "is\n",
            "lambda\n",
            "nonlocal\n",
            "not\n",
            "or\n",
            "pass\n",
            "raise\n",
            "return\n",
            "try\n",
            "while\n",
            "with\n",
            "yield\n"
          ]
        }
      ]
    },
    {
      "cell_type": "markdown",
      "source": [
        "# Q4 Write a program that checks if a given word is a Python keyword."
      ],
      "metadata": {
        "id": "VdjiU2adaich"
      }
    },
    {
      "cell_type": "code",
      "source": [
        " word = input(\"enter a word:\")\n",
        "import keyword\n",
        "if keyword.iskeyword(word):\n",
        "    print(f\"{word} is a python keyword\")\n",
        "else:\n",
        "    print(f\"{word} is not a python keyword\")"
      ],
      "metadata": {
        "colab": {
          "base_uri": "https://localhost:8080/"
        },
        "id": "Gr6vXqcVatHX",
        "outputId": "84bdf04f-729a-4948-b4f2-b0995ef286f2"
      },
      "execution_count": null,
      "outputs": [
        {
          "output_type": "stream",
          "name": "stdout",
          "text": [
            "enter a word:if\n",
            "if is a python keyword\n"
          ]
        }
      ]
    },
    {
      "cell_type": "markdown",
      "source": [
        "# Q5 Create a list and tuple in Python, and demonstrate how attempting to change an element works differently\n",
        "for each."
      ],
      "metadata": {
        "id": "SZ_x49scbSdH"
      }
    },
    {
      "cell_type": "code",
      "source": [
        "list_example = [1, 2, 3, 4, 5]\n",
        "tuple_example = (1, 2, 3, 4, 5)\n",
        "list_example[0] = 10\n",
        "print(list_example)\n",
        "try:\n",
        "    tuple_example[0] = 10\n",
        "except TypeError as e:\n",
        "    print(f\"Error: {e}\")"
      ],
      "metadata": {
        "colab": {
          "base_uri": "https://localhost:8080/"
        },
        "id": "-SeCu5yjbcha",
        "outputId": "95d4daeb-04f1-4175-b25c-d9e36e983423"
      },
      "execution_count": null,
      "outputs": [
        {
          "output_type": "stream",
          "name": "stdout",
          "text": [
            "[10, 2, 3, 4, 5]\n",
            "Error: 'tuple' object does not support item assignment\n"
          ]
        }
      ]
    },
    {
      "cell_type": "markdown",
      "source": [
        "# Q6 Write a function to demonstrate the behavior of mutable and immutable arguments."
      ],
      "metadata": {
        "id": "zNcCfpMxdiLv"
      }
    },
    {
      "cell_type": "code",
      "source": [
        "n = 50\n",
        "lst = [1, 2, 3]\n",
        "\n",
        "print(\"Before function call:\")\n",
        "print(\"n =\", n)\n",
        "print(\"lst =\", lst)\n",
        "\n",
        "modify_arguments(n, lst)\n",
        "\n",
        "print(\"\\nAfter function call:\")\n",
        "print(\"n =\", n)\n",
        "print(\"lst =\", lst)\n"
      ],
      "metadata": {
        "colab": {
          "base_uri": "https://localhost:8080/"
        },
        "id": "1r6Lrp7EdqeX",
        "outputId": "7b0666b1-7701-4800-8fd6-8cd7bb7d0816"
      },
      "execution_count": null,
      "outputs": [
        {
          "output_type": "stream",
          "name": "stdout",
          "text": [
            "Before function call:\n",
            "n = 50\n",
            "lst = [1, 2, 3]\n",
            "Inside function (before modification):\n",
            "num = 50\n",
            "my_list = [1, 2, 3]\n",
            "Inside function (after modification):\n",
            "num = 60\n",
            "my_list = [1, 2, 3, 6]\n",
            "\n",
            "After function call:\n",
            "n = 50\n",
            "lst = [1, 2, 3, 6]\n"
          ]
        }
      ]
    },
    {
      "cell_type": "markdown",
      "source": [
        "# Q7 Write a program that performs basic arithmetic operations on two user-input numbers.\n",
        "\n"
      ],
      "metadata": {
        "id": "0oGfMxDWhpwj"
      }
    },
    {
      "cell_type": "code",
      "source": [
        "num1 = float(input(\"enter a number:\"))\n",
        "num2 = float(input(\"enter a number:\"))\n",
        "\n",
        "print(\"addition:\",num1+num2)\n",
        "print(\"subtraction:\",num1-num2)\n",
        "print(\"multiplication:\",num1*num2)\n",
        "print(\"division:\",num1/num2)\n",
        "print(\"modulus:\",num1%num2)\n",
        "print(\"floor division:\",num1//num2)\n",
        "print(\"exponent:\",num1**num2)\n"
      ],
      "metadata": {
        "colab": {
          "base_uri": "https://localhost:8080/"
        },
        "id": "r3RHSVrChw7H",
        "outputId": "a0482240-7cda-428f-a226-7027d274132e"
      },
      "execution_count": null,
      "outputs": [
        {
          "output_type": "stream",
          "name": "stdout",
          "text": [
            "enter a number:45\n",
            "enter a number:5\n",
            "addition: 50.0\n",
            "subtraction: 40.0\n",
            "multiplication: 225.0\n",
            "division: 9.0\n",
            "modulus: 0.0\n",
            "floor division: 9.0\n",
            "exponent: 184528125.0\n"
          ]
        }
      ]
    },
    {
      "cell_type": "markdown",
      "source": [
        "# Q8 Write a program to demonstrate the use of logical operators."
      ],
      "metadata": {
        "id": "Vlkg2GrJi4sT"
      }
    },
    {
      "cell_type": "code",
      "source": [
        "a = int(input(\"enter a number:\"))\n",
        "b = int(input(\"enter a number:\"))\n",
        "print(\"logical operator demo:\")\n",
        "print(f\"(a>0) and (b>0):{(a>0) and (b>0)}\")\n",
        "print(f\"(a>0) or (b>0):{(a>0) or (b>0)}\")\n",
        "print(f\"not(a>0):{not(a>0)}\")"
      ],
      "metadata": {
        "id": "aWjbkfDQi_MI",
        "colab": {
          "base_uri": "https://localhost:8080/"
        },
        "outputId": "bf5a3e92-c9f6-4c48-8fdf-96336864c361"
      },
      "execution_count": 25,
      "outputs": [
        {
          "output_type": "stream",
          "name": "stdout",
          "text": [
            "enter a number:10\n",
            "enter a number:-8\n",
            "logical operator demo:\n",
            "(a>0) and (b>0):False\n",
            "(a>0) or (b>0):True\n",
            "not(a>0):False\n"
          ]
        }
      ]
    },
    {
      "cell_type": "markdown",
      "source": [
        "# Q9 Write a Python program to convert user input from string to integer, float, and boolean types."
      ],
      "metadata": {
        "id": "XPnhJiUYkex1"
      }
    },
    {
      "cell_type": "code",
      "source": [
        "num = input(\"enter a number:\")\n",
        "\n",
        "num_int = int(num)\n",
        "num_float = float(num)\n",
        "num_bool = bool(num)\n",
        "\n",
        "print(\"integer:\",num_int)\n",
        "print(\"float:\",num_float)\n",
        "print(\"boolean:\",num_bool)\n"
      ],
      "metadata": {
        "colab": {
          "base_uri": "https://localhost:8080/"
        },
        "id": "6Obi_uWvkoNp",
        "outputId": "b7461621-7f86-449a-fc7e-d011a8e9a072"
      },
      "execution_count": 33,
      "outputs": [
        {
          "output_type": "stream",
          "name": "stdout",
          "text": [
            "enter a number:7\n",
            "integer: 7\n",
            "float: 7.0\n",
            "boolean: True\n"
          ]
        }
      ]
    },
    {
      "cell_type": "markdown",
      "source": [
        "#Q10 Write code to demonstrate type casting with list elements."
      ],
      "metadata": {
        "id": "abC4TXmgmfkw"
      }
    },
    {
      "cell_type": "code",
      "source": [
        "string_list = [\"1\",\"2\",\"3\",\"4\",\"5\"]\n",
        "integer_list = [int(element) for element in string_list]\n",
        "print(\"converted list:\" , integer_list)"
      ],
      "metadata": {
        "colab": {
          "base_uri": "https://localhost:8080/"
        },
        "id": "aTZFkzLLmsZe",
        "outputId": "db68e7dd-8f5a-4d0d-9827-0b4779c2c7c6"
      },
      "execution_count": 38,
      "outputs": [
        {
          "output_type": "stream",
          "name": "stdout",
          "text": [
            "converted list: [1, 2, 3, 4, 5]\n"
          ]
        }
      ]
    },
    {
      "cell_type": "markdown",
      "source": [
        "## Q11 Write a program that checks if a number is positive, negative, or zero."
      ],
      "metadata": {
        "id": "2IuWe3hpqQx1"
      }
    },
    {
      "cell_type": "code",
      "source": [
        "num = float(input(\"enter a number:\"))\n",
        "if num>0:\n",
        "    print(\"positive\")\n",
        "elif num<0:\n",
        "    print(\"negative\")\n",
        "else:\n",
        "    print(\"zero\")\n"
      ],
      "metadata": {
        "colab": {
          "base_uri": "https://localhost:8080/"
        },
        "id": "uK8fy49SqaZt",
        "outputId": "0106b600-70d2-457b-d6b1-0a29bc28400f"
      },
      "execution_count": 39,
      "outputs": [
        {
          "output_type": "stream",
          "name": "stdout",
          "text": [
            "enter a number:34\n",
            "positive\n"
          ]
        }
      ]
    },
    {
      "cell_type": "markdown",
      "source": [
        "# Q12  Write a for loop to print numbers from 1 to 10."
      ],
      "metadata": {
        "id": "3PtpNy-Pq20v"
      }
    },
    {
      "cell_type": "code",
      "source": [
        "for i in range(1,11):\n",
        "    print(i)\n",
        ""
      ],
      "metadata": {
        "colab": {
          "base_uri": "https://localhost:8080/"
        },
        "id": "fxMKa_44q-07",
        "outputId": "5f8c785f-fbae-47b6-b782-1ea70e2d10c2"
      },
      "execution_count": 40,
      "outputs": [
        {
          "output_type": "stream",
          "name": "stdout",
          "text": [
            "1\n",
            "2\n",
            "3\n",
            "4\n",
            "5\n",
            "6\n",
            "7\n",
            "8\n",
            "9\n",
            "10\n"
          ]
        }
      ]
    },
    {
      "cell_type": "markdown",
      "source": [
        "# Q13 Write a Python program to find the sum of all even numbers between 1 and 50"
      ],
      "metadata": {
        "id": "akXSEd78rWUN"
      }
    },
    {
      "cell_type": "code",
      "source": [
        "total = 0\n",
        "for num in range(2,51,2):\n",
        "    total += num\n",
        "print(\"sum of even numbers between 1 and 50:\",total)"
      ],
      "metadata": {
        "colab": {
          "base_uri": "https://localhost:8080/"
        },
        "id": "tc5kVK2wr8KX",
        "outputId": "41ebf3ca-4cbe-456c-9f3d-cc8c255f5599"
      },
      "execution_count": 41,
      "outputs": [
        {
          "output_type": "stream",
          "name": "stdout",
          "text": [
            "sum of even numbers between 1 and 50: 650\n"
          ]
        }
      ]
    },
    {
      "cell_type": "markdown",
      "source": [
        "# Q14 Write a program to reverse a string using a while loop."
      ],
      "metadata": {
        "id": "hORXvmugsG0E"
      }
    },
    {
      "cell_type": "code",
      "source": [
        "num = input(\"enter a string:\")\n",
        "reversed_string = \"\"\n",
        "index = len(num) - 1\n",
        "while index >= 0:\n",
        "    reversed_string += num[index]\n",
        "    index -= 1\n",
        "print(\"reversed string:\",reversed_string)"
      ],
      "metadata": {
        "colab": {
          "base_uri": "https://localhost:8080/"
        },
        "id": "AbgT28mVsPcm",
        "outputId": "c19b5025-f7c3-4732-c724-4b4fc3429e33"
      },
      "execution_count": 43,
      "outputs": [
        {
          "output_type": "stream",
          "name": "stdout",
          "text": [
            "enter a string:98\n",
            "reversed string: 89\n"
          ]
        }
      ]
    },
    {
      "cell_type": "markdown",
      "source": [],
      "metadata": {
        "id": "T4WuIFXZsku-"
      }
    },
    {
      "cell_type": "markdown",
      "source": [
        "# Q15 Write a Python program to calculate the factorial of a number provided by the user using a while loop."
      ],
      "metadata": {
        "id": "RffrmrVVsm5N"
      }
    },
    {
      "cell_type": "code",
      "source": [
        "num = int(input(\"Enter a number: \"))\n",
        "\n",
        "if num < 0:\n",
        "    print(\"Factorial is not defined for negative numbers.\")\n",
        "else:\n",
        "    factorial = 1\n",
        "    i = 1\n",
        "\n",
        "    while i <= num:\n",
        "        factorial *= i\n",
        "        i += 1\n",
        "\n",
        "        print(\"Factorial of\", num, \"is\", factorial)"
      ],
      "metadata": {
        "colab": {
          "base_uri": "https://localhost:8080/"
        },
        "id": "i2o_gPfMux2D",
        "outputId": "f3ad16c3-ddff-4109-f437-449ca68086d1"
      },
      "execution_count": 45,
      "outputs": [
        {
          "output_type": "stream",
          "name": "stdout",
          "text": [
            "Enter a number: 7\n",
            "Factorial of 7 is 1\n",
            "Factorial of 7 is 2\n",
            "Factorial of 7 is 6\n",
            "Factorial of 7 is 24\n",
            "Factorial of 7 is 120\n",
            "Factorial of 7 is 720\n",
            "Factorial of 7 is 5040\n"
          ]
        }
      ]
    }
  ]
}